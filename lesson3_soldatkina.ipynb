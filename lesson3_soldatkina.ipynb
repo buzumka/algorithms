{
 "cells": [
  {
   "cell_type": "code",
   "execution_count": 67,
   "metadata": {},
   "outputs": [],
   "source": [
    "import numpy as np\n",
    "import pandas as pd\n",
    "import matplotlib.pyplot as plt"
   ]
  },
  {
   "cell_type": "code",
   "execution_count": 2,
   "metadata": {},
   "outputs": [],
   "source": [
    "# 4 признака, первый это фактически свободный член\n",
    "X = np.array([[1, 1, 1, 1, 1, 1, 1, 1, 1, 1],\n",
    "              [1, 1, 2, 5, 3, 0, 5, 10, 1, 2],\n",
    "              [500, 700, 750, 600, 1450, 800, 1500, 2000, 450, 1000],\n",
    "              [1, 1, 2, 1, 2,  1, 3, 3, 1, 2]], dtype = np.float64)\n",
    "# одно целевое свойство\n",
    "y = np.array([0, 0, 1, 0, 1, 0, 1, 0, 1, 1], dtype = np.float64)\n",
    "# признаки обладают разной связью с целевым свойством: в частности, некоторые очень далеки"
   ]
  },
  {
   "cell_type": "code",
   "execution_count": 3,
   "metadata": {},
   "outputs": [
    {
     "data": {
      "text/plain": [
       "array([[1.00e+00, 1.00e+00, 1.00e+00, 1.00e+00, 1.00e+00, 1.00e+00,\n",
       "        1.00e+00, 1.00e+00, 1.00e+00, 1.00e+00],\n",
       "       [1.00e+00, 1.00e+00, 2.00e+00, 5.00e+00, 3.00e+00, 0.00e+00,\n",
       "        5.00e+00, 1.00e+01, 1.00e+00, 2.00e+00],\n",
       "       [5.00e+02, 7.00e+02, 7.50e+02, 6.00e+02, 1.45e+03, 8.00e+02,\n",
       "        1.50e+03, 2.00e+03, 4.50e+02, 1.00e+03],\n",
       "       [1.00e+00, 1.00e+00, 2.00e+00, 1.00e+00, 2.00e+00, 1.00e+00,\n",
       "        3.00e+00, 3.00e+00, 1.00e+00, 2.00e+00]])"
      ]
     },
     "execution_count": 3,
     "metadata": {},
     "output_type": "execute_result"
    }
   ],
   "source": [
    "X"
   ]
  },
  {
   "cell_type": "code",
   "execution_count": 4,
   "metadata": {},
   "outputs": [
    {
     "data": {
      "text/plain": [
       "array([0., 0., 1., 0., 1., 0., 1., 0., 1., 1.])"
      ]
     },
     "execution_count": 4,
     "metadata": {},
     "output_type": "execute_result"
    }
   ],
   "source": [
    "y"
   ]
  },
  {
   "cell_type": "code",
   "execution_count": 5,
   "metadata": {},
   "outputs": [],
   "source": [
    "# стандартизация\n",
    "def calc_std_feat(x):\n",
    "    res = (x - x.mean()) / x.std()\n",
    "    return res"
   ]
  },
  {
   "cell_type": "code",
   "execution_count": 6,
   "metadata": {},
   "outputs": [],
   "source": [
    "X_st = X.copy()\n",
    "X_st[2, :] = calc_std_feat(X[2, :])"
   ]
  },
  {
   "cell_type": "code",
   "execution_count": 10,
   "metadata": {},
   "outputs": [
    {
     "data": {
      "text/plain": [
       "array([[ 1.        ,  1.        ,  1.        ,  1.        ,  1.        ,\n",
       "         1.        ,  1.        ,  1.        ,  1.        ,  1.        ],\n",
       "       [ 1.        ,  1.        ,  2.        ,  5.        ,  3.        ,\n",
       "         0.        ,  5.        , 10.        ,  1.        ,  2.        ],\n",
       "       [-0.97958969, -0.56713087, -0.46401617, -0.77336028,  0.97958969,\n",
       "        -0.36090146,  1.08270439,  2.11385144, -1.08270439,  0.05155735],\n",
       "       [ 1.        ,  1.        ,  2.        ,  1.        ,  2.        ,\n",
       "         1.        ,  3.        ,  3.        ,  1.        ,  2.        ]])"
      ]
     },
     "execution_count": 10,
     "metadata": {},
     "output_type": "execute_result"
    }
   ],
   "source": [
    "X_st # ответ по итогами стандартизации"
   ]
  },
  {
   "cell_type": "code",
   "execution_count": 11,
   "metadata": {},
   "outputs": [],
   "source": [
    "# логистические потери\n",
    "def calc_logloss(y, y_pred):\n",
    "    err = - np.mean(y * np.log(y_pred) + (1.0 - y) * np.log(1.0 - y_pred))\n",
    "    err = np.sum(err)\n",
    "    return err"
   ]
  },
  {
   "cell_type": "code",
   "execution_count": 12,
   "metadata": {},
   "outputs": [
    {
     "data": {
      "text/plain": [
       "0.10536051565782628"
      ]
     },
     "execution_count": 12,
     "metadata": {},
     "output_type": "execute_result"
    }
   ],
   "source": [
    "# Пример применения\n",
    "y1 = np.array([1, 0])\n",
    "y_pred1 = np.array([0.9, 0.1])\n",
    "calc_logloss(y1, y_pred1)"
   ]
  },
  {
   "cell_type": "code",
   "execution_count": 13,
   "metadata": {},
   "outputs": [],
   "source": [
    "# функция построения сигмоида\n",
    "def sigmoid(z):\n",
    "    res = 1 / (1 + np.exp(-z))\n",
    "    return res"
   ]
  },
  {
   "cell_type": "code",
   "execution_count": 14,
   "metadata": {},
   "outputs": [
    {
     "data": {
      "image/png": "[encoded data removed]",
      "text/plain": [
       "<Figure size 432x288 with 1 Axes>"
      ]
     },
     "metadata": {
      "needs_background": "light"
     },
     "output_type": "display_data"
    }
   ],
   "source": [
    "# прорисуем сигмоид - логистическую функцию\n",
    "z = np.linspace(-10, 10, 101)\n",
    "\n",
    "probabilities = sigmoid(z)\n",
    "plt.plot(z, probabilities)\n",
    "plt.show()"
   ]
  },
  {
   "cell_type": "code",
   "execution_count": 15,
   "metadata": {},
   "outputs": [],
   "source": [
    "# Logistic Regression\n",
    "\n",
    "def eval_model(X, y, iterations, alpha=1e-4):\n",
    "    np.random.seed(42)\n",
    "    W = np.random.randn(X.shape[0])\n",
    "    n = X.shape[1]\n",
    "    for i in range(1, iterations+1):\n",
    "        z = np.dot(W, X)\n",
    "        y_pred = sigmoid(z) # прогоняем данные через сигмоид, свернув лин модель\n",
    "        err = calc_logloss(y, y_pred) # получить ошибку для наших логистических потерь\n",
    "        W -= alpha * (1/n * np.dot((y_pred - y), X.T)) # использовать пред 2 строки для адаптации, градиентный спуск в чистом виде\n",
    "        if i % (iterations / 10) == 0:\n",
    "            print(i, W, err)\n",
    "    return W"
   ]
  },
  {
   "cell_type": "code",
   "execution_count": 16,
   "metadata": {},
   "outputs": [
    {
     "name": "stdout",
     "output_type": "stream",
     "text": [
      "500 [ 0.47822106 -0.20918419  0.64605995  1.49531432] 1.0559639161585663\n",
      "1000 [ 0.46074241 -0.27647603  0.64395686  1.46891696] 0.945214871179169\n",
      "1500 [ 0.44435675 -0.33951515  0.64152026  1.44406912] 0.8478360281905125\n",
      "2000 [ 0.42913461 -0.39751872  0.63899625  1.42106251] 0.765117774502237\n",
      "2500 [ 0.41513888 -0.44956784  0.63671032  1.40023024] 0.6981293270105478\n",
      "3000 [ 0.40240136 -0.49488241  0.63498247  1.38184975] 0.6468813805442177\n",
      "3500 [ 0.39088925 -0.53321212  0.63401986  1.36601535] 0.6097021563515639\n",
      "4000 [ 0.38049869 -0.56497213  0.63387116  1.35259671] 0.5836774145473647\n",
      "4500 [ 0.37108342 -0.59102182  0.63446603  1.3413119 ] 0.5657147376221167\n",
      "5000 [ 0.36249064 -0.61234585  0.63568321  1.33183158] 0.553273778823678\n"
     ]
    }
   ],
   "source": [
    "W = eval_model(X_st, y, iterations=5000, alpha=1e-4)"
   ]
  },
  {
   "cell_type": "markdown",
   "metadata": {},
   "source": [
    "1. Измените функцию calc_logloss так, чтобы нули по возможности не попадали в np.log (не уверена, что правильно поняла задачу)"
   ]
  },
  {
   "cell_type": "code",
   "execution_count": 17,
   "metadata": {},
   "outputs": [],
   "source": [
    "def calc_logloss_new(y, y_pred):\n",
    "    try:\n",
    "        err = - np.mean(y * np.log(y_pred) + (1.0 - y) * np.log(1.0 - y_pred))\n",
    "        err = np.sum(err)\n",
    "        return err\n",
    "    except ValueError:\n",
    "        print('Логарифм в 0 неопределен')"
   ]
  },
  {
   "cell_type": "code",
   "execution_count": 27,
   "metadata": {},
   "outputs": [],
   "source": [
    "# Logistic Regression\n",
    "\n",
    "def eval_model_new(X, y, iterations, alpha):\n",
    "    np.random.seed(42)\n",
    "    W = np.random.randn(X.shape[0])\n",
    "    n = X.shape[1]\n",
    "    for i in range(1, iterations+1):\n",
    "        z = np.dot(W, X)\n",
    "        y_pred = sigmoid(z) # прогоняем данные через сигмоид, свернув лин модель\n",
    "        err = calc_logloss_new(y, y_pred) # получить ошибку для наших логистических потерь\n",
    "        W -= alpha * (1/n * np.dot((y_pred - y), X.T)) # использовать пред 2 строки для адаптации, градиентный спуск в чистом виде\n",
    "#         if i % (iterations / 10) == 0:\n",
    "#             print(i, W, err)\n",
    "    print(f'iterations: {iterations}, alpha: {alpha},logloss:  {err}')\n",
    "    return W"
   ]
  },
  {
   "cell_type": "code",
   "execution_count": 28,
   "metadata": {},
   "outputs": [
    {
     "name": "stdout",
     "output_type": "stream",
     "text": [
      "iterations: 500, alpha: 0.001,logloss:  0.5533458057511684\n"
     ]
    }
   ],
   "source": [
    "W = eval_model_new(X_st, y, iterations=500, alpha=1e-3)"
   ]
  },
  {
   "cell_type": "markdown",
   "metadata": {},
   "source": [
    "2. Подберите аргументы функции eval_model для логистической регрессии таким образом, чтобы log loss был минимальным."
   ]
  },
  {
   "cell_type": "code",
   "execution_count": 30,
   "metadata": {},
   "outputs": [
    {
     "name": "stdout",
     "output_type": "stream",
     "text": [
      "iterations: 100, alpha: 0.1,logloss:  0.47660345824649486\n",
      "iterations: 500, alpha: 0.1,logloss:  0.41825884533907043\n",
      "iterations: 1000, alpha: 0.1,logloss:  0.37540242293062054\n",
      "iterations: 5000, alpha: 0.1,logloss:  0.2698091230218946\n",
      "iterations: 10000, alpha: 0.1,logloss:  0.23214418399379286\n",
      "iterations: 50000, alpha: 0.1,logloss:  0.14388100734616993\n",
      "iterations: 100, alpha: 0.5,logloss:  0.4185507211842677\n",
      "iterations: 500, alpha: 0.5,logloss:  0.3116859301749715\n",
      "iterations: 1000, alpha: 0.5,logloss:  0.26981639596053153\n",
      "iterations: 5000, alpha: 0.5,logloss:  0.18075411992482762\n",
      "iterations: 10000, alpha: 0.5,logloss:  0.14387927035605036\n",
      "iterations: 50000, alpha: 0.5,logloss:  0.08653984942145551\n",
      "iterations: 100, alpha: 0.01,logloss:  0.5202099204174199\n",
      "iterations: 500, alpha: 0.01,logloss:  0.4910268478489977\n",
      "iterations: 1000, alpha: 0.01,logloss:  0.47648567288032373\n",
      "iterations: 5000, alpha: 0.01,logloss:  0.41818207186671463\n",
      "iterations: 10000, alpha: 0.01,logloss:  0.3753579132752236\n",
      "iterations: 50000, alpha: 0.01,logloss:  0.26980645713504214\n",
      "iterations: 100, alpha: 0.001,logloss:  0.9469969250572376\n",
      "iterations: 500, alpha: 0.001,logloss:  0.5533458057511684\n",
      "iterations: 1000, alpha: 0.001,logloss:  0.5201575151201117\n",
      "iterations: 5000, alpha: 0.001,logloss:  0.491009738609497\n",
      "iterations: 10000, alpha: 0.001,logloss:  0.4764733727784173\n",
      "iterations: 50000, alpha: 0.001,logloss:  0.4181743572330479\n",
      "iterations: 100, alpha: 0.0001,logloss:  1.1533639283232127\n",
      "iterations: 500, alpha: 0.0001,logloss:  1.0559639161585663\n",
      "iterations: 1000, alpha: 0.0001,logloss:  0.945214871179169\n",
      "iterations: 5000, alpha: 0.0001,logloss:  0.553273778823678\n",
      "iterations: 10000, alpha: 0.0001,logloss:  0.5201522304551885\n",
      "iterations: 50000, alpha: 0.0001,logloss:  0.4910080188499569\n",
      "iterations: 100, alpha: 1e-05,logloss:  1.1760534093970987\n",
      "iterations: 500, alpha: 1e-05,logloss:  1.1658245487230008\n",
      "iterations: 1000, alpha: 1e-05,logloss:  1.1531375123467569\n",
      "iterations: 5000, alpha: 1e-05,logloss:  1.0557582300526978\n",
      "iterations: 10000, alpha: 1e-05,logloss:  0.9450369970710204\n",
      "iterations: 50000, alpha: 1e-05,logloss:  0.5532665943101582\n"
     ]
    }
   ],
   "source": [
    "alpha_array = [1e-1, 5e-1, 1e-2, 1e-3, 1e-4, 1e-5]\n",
    "iterations_array = [100, 500, 1000, 5000, 10000, 50000]\n",
    "for alpha_loc in alpha_array:\n",
    "    for iterations_loc in iterations_array:\n",
    "        W = eval_model_new(X_st, y, iterations=iterations_loc, alpha=alpha_loc)"
   ]
  },
  {
   "cell_type": "markdown",
   "metadata": {},
   "source": [
    "лучшие показатели: iterations: 50000, alpha: 0.5,logloss:  0.08653984942145551  !!!!"
   ]
  },
  {
   "cell_type": "code",
   "execution_count": 39,
   "metadata": {},
   "outputs": [
    {
     "name": "stdout",
     "output_type": "stream",
     "text": [
      "5000 [-17.32873106  -1.94875871  -4.38792531  14.46232766] 0.18075411992482762\n",
      "10000 [-24.52791135  -2.59436019  -6.46612462  20.31385673] 0.14387927035605036\n",
      "15000 [-29.60781804  -3.05409533  -7.90850148  24.43350375] 0.12572836419858785\n",
      "20000 [-33.59456965  -3.41360591  -9.03387462  27.65607693] 0.11461813473059941\n",
      "25000 [-36.92357094  -3.71103     -9.97256713  30.33709837] 0.10690571905556985\n",
      "30000 [-39.81690382  -3.9662702  -10.78961189  32.65807625] 0.10110140579922255\n",
      "35000 [-42.40206645  -4.19091252 -11.52179645  34.72326776] 0.09648333068376305\n",
      "40000 [-44.75861236  -4.39225879 -12.19182203  36.59776142] 0.09265828210563028\n",
      "45000 [-46.93932281  -4.57519802 -12.81461136  38.32478351] 0.08939299754979863\n",
      "50000 [-48.98089252  -4.74316616 -13.40044849  39.93443908] 0.08653984942145551\n"
     ]
    }
   ],
   "source": [
    "iterations_opt = 50000\n",
    "alpha_opt = 0.5\n",
    "W_ = eval_model(X_st, y, iterations=iterations_opt, alpha=alpha_opt)"
   ]
  },
  {
   "cell_type": "markdown",
   "metadata": {},
   "source": [
    "3. Создайте функцию calc_pred_proba, возвращающую предсказанную вероятность класса 1 (на вход подаются W, который уже посчитан функцией eval_model и X, на выходе - массив y_pred_proba)."
   ]
  },
  {
   "cell_type": "code",
   "execution_count": 42,
   "metadata": {},
   "outputs": [],
   "source": [
    "def calc_pred_proba(w, X):\n",
    "    m = X.shape[1]    \n",
    "    y_pred_proba = np.zeros((1, m))\n",
    "    w = w.reshape(X.shape[0], 1)    \n",
    "    A = sigmoid(np.dot(w.T, X))\n",
    "    \n",
    "#     За порог отнесения к тому или иному классу примем вероятность 0.5\n",
    "    for i in range(A.shape[1]):\n",
    "        if (A[:,i] > 0.5): \n",
    "            y_pred_proba[:, i] = 1\n",
    "        elif (A[:,i] <= 0.5):\n",
    "            y_pred_proba[:, i] = 0\n",
    "    \n",
    "    return y_pred_proba"
   ]
  },
  {
   "cell_type": "code",
   "execution_count": 43,
   "metadata": {},
   "outputs": [],
   "source": [
    "y_pred_proba = calc_pred_proba(W_, X_st)"
   ]
  },
  {
   "cell_type": "code",
   "execution_count": 44,
   "metadata": {},
   "outputs": [
    {
     "data": {
      "text/plain": [
       "array([[0., 0., 1., 0., 1., 0., 1., 0., 1., 1.]])"
      ]
     },
     "execution_count": 44,
     "metadata": {},
     "output_type": "execute_result"
    }
   ],
   "source": [
    "y_pred_proba"
   ]
  },
  {
   "cell_type": "markdown",
   "metadata": {},
   "source": [
    "4. Создайте функцию calc_pred, возвращающую предсказанный класс (на вход подаются W, который уже посчитан функцией eval_model и X, на выходе - массив y_pred). Я так поняла, что при разных пороговых значениях"
   ]
  },
  {
   "cell_type": "code",
   "execution_count": 51,
   "metadata": {},
   "outputs": [],
   "source": [
    "def calc_pred(w, X, threshold = 0.5):\n",
    "    m = X.shape[1]    \n",
    "    y_pred = np.zeros((1, m))\n",
    "    w = w.reshape(X.shape[0], 1)    \n",
    "    A = sigmoid(np.dot(w.T, X))\n",
    "    \n",
    "    for i in range(A.shape[1]):\n",
    "        if (A[:,i] > threshold): \n",
    "            y_pred[:, i] = 1\n",
    "        elif (A[:,i] <= threshold):\n",
    "            y_pred[:, i] = 0\n",
    "    \n",
    "    return y_pred"
   ]
  },
  {
   "cell_type": "code",
   "execution_count": 62,
   "metadata": {},
   "outputs": [
    {
     "data": {
      "text/plain": [
       "array([[0., 0., 1., 0., 1., 0., 1., 0., 1., 1.]])"
      ]
     },
     "execution_count": 62,
     "metadata": {},
     "output_type": "execute_result"
    }
   ],
   "source": [
    "y_pred_05 = calc_pred(W_, X_st)\n",
    "y_pred_05"
   ]
  },
  {
   "cell_type": "code",
   "execution_count": 53,
   "metadata": {},
   "outputs": [
    {
     "data": {
      "text/plain": [
       "array([0., 0., 1., 0., 1., 0., 1., 0., 1., 1.])"
      ]
     },
     "execution_count": 53,
     "metadata": {},
     "output_type": "execute_result"
    }
   ],
   "source": [
    "y"
   ]
  },
  {
   "cell_type": "code",
   "execution_count": 56,
   "metadata": {},
   "outputs": [
    {
     "data": {
      "text/plain": [
       "array([[1., 0., 1., 0., 1., 0., 1., 0., 1., 1.]])"
      ]
     },
     "execution_count": 56,
     "metadata": {},
     "output_type": "execute_result"
    }
   ],
   "source": [
    "y_pred_03 = calc_pred(W_, X_st, threshold = 0.3)\n",
    "y_pred_03"
   ]
  },
  {
   "cell_type": "code",
   "execution_count": 59,
   "metadata": {},
   "outputs": [
    {
     "name": "stdout",
     "output_type": "stream",
     "text": [
      "for threshold = 1 predict: [[1. 0. 1. 0. 1. 0. 1. 0. 1. 1.]]\n",
      "for threshold = 2 predict: [[1. 0. 1. 0. 1. 0. 1. 0. 1. 1.]]\n",
      "for threshold = 3 predict: [[1. 0. 1. 0. 1. 0. 1. 0. 1. 1.]]\n",
      "for threshold = 4 predict: [[0. 0. 1. 0. 1. 0. 1. 0. 1. 1.]]\n",
      "for threshold = 5 predict: [[0. 0. 1. 0. 1. 0. 1. 0. 1. 1.]]\n",
      "for threshold = 6 predict: [[0. 0. 1. 0. 1. 0. 1. 0. 1. 1.]]\n",
      "for threshold = 7 predict: [[0. 0. 1. 0. 1. 0. 1. 0. 0. 1.]]\n",
      "for threshold = 8 predict: [[0. 0. 1. 0. 1. 0. 1. 0. 0. 1.]]\n",
      "for threshold = 9 predict: [[0. 0. 1. 0. 1. 0. 1. 0. 0. 1.]]\n"
     ]
    }
   ],
   "source": [
    "for threshold_loc in range(1, 10):\n",
    "    y_pred = calc_pred(W_, X_st, threshold_loc/10)\n",
    "    print(f'for threshold = {threshold_loc} predict: {y_pred}')"
   ]
  },
  {
   "cell_type": "markdown",
   "metadata": {},
   "source": [
    "5. Посчитайте Accuracy, матрицу ошибок, точность и полноту, а также F1 score"
   ]
  },
  {
   "cell_type": "code",
   "execution_count": 65,
   "metadata": {},
   "outputs": [
    {
     "data": {
      "text/plain": [
       "0.5"
      ]
     },
     "execution_count": 65,
     "metadata": {},
     "output_type": "execute_result"
    }
   ],
   "source": [
    "# accuracy считаем для случая порогового значения 0.5\n",
    "accuracy = np.sum(y_pred_05)/y_pred_05.shape[1] \n",
    "accuracy"
   ]
  },
  {
   "cell_type": "code",
   "execution_count": 69,
   "metadata": {},
   "outputs": [
    {
     "data": {
      "text/plain": [
       "array([[5, 0],\n",
       "       [0, 5]])"
      ]
     },
     "execution_count": 69,
     "metadata": {},
     "output_type": "execute_result"
    }
   ],
   "source": [
    "# матрицу ошибок считаем для случая порогового значения 0.5\n",
    "matrix = np.array(pd.crosstab(y, y_pred_05[0]))\n",
    "matrix"
   ]
  },
  {
   "cell_type": "code",
   "execution_count": 70,
   "metadata": {},
   "outputs": [
    {
     "data": {
      "text/plain": [
       "1.0"
      ]
     },
     "execution_count": 70,
     "metadata": {},
     "output_type": "execute_result"
    }
   ],
   "source": [
    "# precition (точность) считаем для случая порогового значения 0.5\n",
    "precition = matrix[1,1]/(matrix[1,1] + matrix[0,1])\n",
    "precition"
   ]
  },
  {
   "cell_type": "code",
   "execution_count": 72,
   "metadata": {},
   "outputs": [
    {
     "data": {
      "text/plain": [
       "1.0"
      ]
     },
     "execution_count": 72,
     "metadata": {},
     "output_type": "execute_result"
    }
   ],
   "source": [
    "# recall (полноту) считаем для случая порогового значения 0.5\n",
    "recall = matrix[1,1]/(matrix[1,1] + matrix[1,0])\n",
    "recall"
   ]
  },
  {
   "cell_type": "code",
   "execution_count": 75,
   "metadata": {},
   "outputs": [
    {
     "data": {
      "text/plain": [
       "1.0"
      ]
     },
     "execution_count": 75,
     "metadata": {},
     "output_type": "execute_result"
    }
   ],
   "source": [
    "# F1 считаем для случая порогового значения 0.5\n",
    "\n",
    "F1 = 2 * precition * recall / (precition + recall)\n",
    "F1"
   ]
  },
  {
   "cell_type": "code",
   "execution_count": 74,
   "metadata": {},
   "outputs": [
    {
     "data": {
      "text/plain": [
       "1.0"
      ]
     },
     "execution_count": 74,
     "metadata": {},
     "output_type": "execute_result"
    }
   ],
   "source": [
    "# F2 считаем для случая порогового значения 0.5\n",
    "\n",
    "F2 = 5 * precition * recall / (4 * precition + recall)\n",
    "F2"
   ]
  },
  {
   "cell_type": "markdown",
   "metadata": {},
   "source": [
    "6. Могла ли модель переобучиться? Почему?\n",
    "В ходе предыдущих курсов и данного занятия всплавали следующие причины переобучения:\n",
    "первая - присутсвие сильной кореляции в данных;\n",
    "вторая - плохая предобработка (выбросы и отсутсвие регуляризаци);\n",
    "третья - несбалансированные классы.\n",
    "Так же в литературе нашла еще одну причину переобучения - недостаточное количество данных."
   ]
  },
  {
   "cell_type": "code",
   "execution_count": null,
   "metadata": {},
   "outputs": [],
   "source": []
  }
 ],
 "metadata": {
  "kernelspec": {
   "display_name": "Python 3",
   "language": "python",
   "name": "python3"
  },
  "language_info": {
   "codemirror_mode": {
    "name": "ipython",
    "version": 3
   },
   "file_extension": ".py",
   "mimetype": "text/x-python",
   "name": "python",
   "nbconvert_exporter": "python",
   "pygments_lexer": "ipython3",
   "version": "3.8.5"
  }
 },
 "nbformat": 4,
 "nbformat_minor": 4
}
