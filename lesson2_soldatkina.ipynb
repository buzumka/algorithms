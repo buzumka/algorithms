{
 "cells": [
  {
   "cell_type": "code",
   "execution_count": 133,
   "metadata": {},
   "outputs": [],
   "source": [
    "import numpy as np\n",
    "from sklearn import datasets\n",
    "import matplotlib.pyplot as plt\n",
    "from sklearn.preprocessing import StandardScaler, Normalizer\n",
    "from sklearn.linear_model import LinearRegression\n",
    "\n",
    "%matplotlib inline"
   ]
  },
  {
   "cell_type": "markdown",
   "metadata": {},
   "source": [
    "1. Сгенерировать датасет при помощи sklearn.datasets.make_regression и обучить линейную модель при помощи градиентного и стохастического градиентного спуска. Нанести среднеквадратичную ошибку для обоих методов на один график, сделать выводы о разнице скорости сходимости каждого из методов."
   ]
  },
  {
   "cell_type": "code",
   "execution_count": 95,
   "metadata": {},
   "outputs": [],
   "source": [
    "# сгенерируем набор данных\n",
    "data1, target, coef = datasets.make_regression(n_samples=500, n_features = 2, n_informative = 2, n_targets = 1, \n",
    "                                              noise = 5, coef = True, random_state = 2)\n",
    "data1[:,0] = data1[:,0]*10"
   ]
  },
  {
   "cell_type": "code",
   "execution_count": 96,
   "metadata": {},
   "outputs": [
    {
     "data": {
      "image/png": "[encoded data removed]",
      "text/plain": [
       "<Figure size 432x288 with 1 Axes>"
      ]
     },
     "metadata": {
      "needs_background": "light"
     },
     "output_type": "display_data"
    },
    {
     "data": {
      "image/png": "[encoded data removed]",
      "text/plain": [
       "<Figure size 432x288 with 2 Axes>"
      ]
     },
     "metadata": {
      "needs_background": "light"
     },
     "output_type": "display_data"
    }
   ],
   "source": [
    "plt.plot(data1[:,0],data1[:,1], '.')\n",
    "plt.xlim((-40,40))\n",
    "plt.ylim((-40,40))\n",
    "plt.grid(True)\n",
    "plt.show()\n",
    "plt.subplot(1,2,1)\n",
    "plt.plot(data1[:,0],target, '.')\n",
    "plt.xlim((-40,40))\n",
    "plt.ylim((-40,40))\n",
    "plt.grid(True)\n",
    "plt.subplot(1,2,2)\n",
    "plt.plot(data1[:,1],target, '.')\n",
    "plt.xlim((-4,4))\n",
    "plt.ylim((-40,40))\n",
    "plt.grid(True)\n",
    "\n",
    "plt.show()"
   ]
  },
  {
   "cell_type": "code",
   "execution_count": 120,
   "metadata": {},
   "outputs": [],
   "source": [
    "# Отмасштабируем получившиеся признаки\n",
    "\n",
    "# Получим средние значения и стандартное отклонение по столбцам\n",
    "means = np.mean(data, axis=0)\n",
    "stds = np.std(data, axis=0)\n",
    "# параметр axis указывается для вычисления значений по столбцам, а не по всему массиву\n",
    "#(см. документацию в разделе источников)\n",
    "\n",
    "# вычтем каждое значение признака из среднего и поделим на стандартное отклонение\n",
    "for i in range(data.shape[0]):\n",
    "    for j in range(data.shape[1]):\n",
    "        data[i][j] = (data[i][j] - means[j])/stds[j]"
   ]
  },
  {
   "cell_type": "code",
   "execution_count": 121,
   "metadata": {},
   "outputs": [],
   "source": [
    "# реализуем функцию, определяющую среднеквадратичную ошибку\n",
    "def mserror(X, w, y_pred):\n",
    "    y = X.dot(w)\n",
    "    return (sum((y - y_pred)**2)) / len(y)"
   ]
  },
  {
   "cell_type": "code",
   "execution_count": 127,
   "metadata": {},
   "outputs": [],
   "source": [
    "def stochastic(X, Y, w, eta = 0.01, max_iter = 1e5, min_weight_dist = 1e-8):\n",
    "    # инициализируем начальный вектор весов\n",
    "    w = np.random.randn(2)\n",
    "\n",
    "    # список векторов весов после каждой итерации\n",
    "    w_list = [w.copy()]\n",
    "\n",
    "    # список значений ошибок после каждой итерации\n",
    "    errors = []\n",
    "\n",
    "    # зададим начальную разницу весов большим числом\n",
    "    weight_dist = np.inf\n",
    "\n",
    "    # счетчик итераций\n",
    "    iter_num = 0\n",
    "    lamb = 0.01 \n",
    "    np.random.seed(1234)\n",
    "\n",
    "    Q = [mserror(X, w, Y)]  \n",
    "    # ход градиентного спуска\n",
    "    while weight_dist > min_weight_dist and iter_num < max_iter:\n",
    "\n",
    "        # генерируем случайный индекс объекта выборки\n",
    "        train_ind = np.random.randint(data.shape[0])\n",
    "\n",
    "        new_w = w - 2 * eta/(0+1) * np.dot(data[train_ind].T, (np.dot(data[train_ind], w) - target[train_ind])) #/target.shape[0]\n",
    "\n",
    "        weight_dist = np.linalg.norm(new_w - w, ord=2)\n",
    "\n",
    "        w_list.append(new_w.copy())\n",
    "        errors.append(mserror(data, new_w, target))\n",
    "        Q.append(Q[-1]*(1-lamb)+lamb*(np.dot(data[train_ind], w) - target[train_ind])**2)\n",
    "        iter_num += 1\n",
    "        w = new_w\n",
    "\n",
    "    w_list = np.array(w_list)\n",
    "\n",
    "    print(f'В случае использования стохастического градиентного спуска функционал ошибки составляет {round(errors[-1], 4)}')\n",
    "    \n",
    "    return w_list, errors"
   ]
  },
  {
   "cell_type": "code",
   "execution_count": 128,
   "metadata": {},
   "outputs": [],
   "source": [
    "def gradient(X, Y, w, eta = 0.01, max_iter = 1e3, min_weight_dist = 1e-8):\n",
    "\n",
    "    # список векторов весов после каждой итерации\n",
    "    w_list = [w.copy()]\n",
    "\n",
    "    # список значений ошибок после каждой итерации\n",
    "    errors = []\n",
    "\n",
    "    # зададим начальную разницу весов большим числом\n",
    "    weight_dist = np.inf\n",
    "\n",
    "    # счетчик итераций\n",
    "    iter_num = 0\n",
    "\n",
    "    # ход градиентного спуска\n",
    "    while ( weight_dist > min_weight_dist) and (iter_num < max_iter):\n",
    "        # новый вес w\n",
    "        new_w = w - 2 * eta/1 * np.dot(X.T, (np.dot(X, w) - Y)) / Y.shape[0]#(iter_num*0.01+1)\n",
    "        # оценка расстояния по эвклиду между старым и новым состоянием w\n",
    "        weight_dist = np.linalg.norm(new_w - w, ord=2)\n",
    "\n",
    "        w_list.append([iter_num]+new_w.copy().tolist())\n",
    "        errors.append(mserror(X, new_w, Y))\n",
    "\n",
    "        iter_num += 1\n",
    "        w = new_w\n",
    "\n",
    "    w_list = np.array(w_list)\n",
    "\n",
    "    print(f'В случае использования градиентного спуска функционал ошибки составляет {round(errors[-1], 4)}')\n",
    "\n",
    "    return w_list, errors"
   ]
  },
  {
   "cell_type": "code",
   "execution_count": 129,
   "metadata": {},
   "outputs": [
    {
     "name": "stdout",
     "output_type": "stream",
     "text": [
      "В случае использования градиентного спуска функционал ошибки составляет 79.5827\n"
     ]
    },
    {
     "name": "stderr",
     "output_type": "stream",
     "text": [
      "<ipython-input-128-1f1159bff5d1>:28: VisibleDeprecationWarning: Creating an ndarray from ragged nested sequences (which is a list-or-tuple of lists-or-tuples-or ndarrays with different lengths or shapes) is deprecated. If you meant to do this, you must specify 'dtype=object' when creating the ndarray\n",
      "  w_list = np.array(w_list)\n"
     ]
    }
   ],
   "source": [
    "# возьмем нулевые начальные веса\n",
    "n_features = 2\n",
    "w = np.zeros(n_features)\n",
    "w_gradient = gradient(data, target, w, eta = 0.01, max_iter = 1e4, min_weight_dist = 1e-8)"
   ]
  },
  {
   "cell_type": "code",
   "execution_count": 125,
   "metadata": {},
   "outputs": [
    {
     "name": "stdout",
     "output_type": "stream",
     "text": [
      "В случае использования стохастического градиентного спуска функционал ошибки составляет 80.1792\n"
     ]
    }
   ],
   "source": [
    "# возьмем нулевые начальные веса\n",
    "n_features = 2\n",
    "w = np.zeros(n_features)\n",
    "w_stochastic = stochastic(data, target, w, eta = 0.01, max_iter = 1e5, min_weight_dist = 1e-8)"
   ]
  },
  {
   "cell_type": "code",
   "execution_count": 126,
   "metadata": {},
   "outputs": [
    {
     "data": {
      "text/plain": [
       "<matplotlib.legend.Legend at 0x7fc040128670>"
      ]
     },
     "execution_count": 126,
     "metadata": {},
     "output_type": "execute_result"
    },
    {
     "data": {
      "image/png": "[encoded data removed]",
      "text/plain": [
       "<Figure size 432x288 with 1 Axes>"
      ]
     },
     "metadata": {
      "needs_background": "light"
     },
     "output_type": "display_data"
    }
   ],
   "source": [
    "# Визуализируем изменение функционала ошибки\n",
    "plt.plot(range(len(w_gradient[1])), w_gradient[1], label=\"Градиентный спуск\")\n",
    "plt.plot(range(len(w_stochastic[1])), w_stochastic[1], label=\"Стохастический градиентный спуск\")\n",
    "plt.title('MSE')\n",
    "plt.xlabel('Iteration number')\n",
    "plt.ylabel('MSE')\n",
    "plt.legend()"
   ]
  },
  {
   "cell_type": "markdown",
   "metadata": {},
   "source": [
    "Теоретически скорость сходимости у обычного градиентного спуска должна быть больше, но у меня какой-то странный график получается"
   ]
  },
  {
   "cell_type": "markdown",
   "metadata": {},
   "source": [
    "2. Модифицировать решение первого задания путем добавления L2-регуляризации (в функцию, считающую MSE добавить норму весов, а в поправку нужно добавить производную для нормы вектора весов по весам) и сравнить результаты."
   ]
  },
  {
   "cell_type": "code",
   "execution_count": 130,
   "metadata": {},
   "outputs": [],
   "source": [
    "def stochastic_L2(X, Y, w, eta = 0.01, max_iter = 1e5, min_weight_dist = 1e-8, lambda_two = 1e-8):\n",
    "    # инициализируем начальный вектор весов\n",
    "    w = np.random.randn(2)\n",
    "\n",
    "    # список векторов весов после каждой итерации\n",
    "    w_list = [w.copy()]\n",
    "\n",
    "    # список значений ошибок после каждой итерации\n",
    "    errors = []\n",
    "\n",
    "    # зададим начальную разницу весов большим числом\n",
    "    weight_dist = np.inf\n",
    "\n",
    "    # счетчик итераций\n",
    "    iter_num = 0\n",
    "    lamb = 0.001 \n",
    "    np.random.seed(1234)\n",
    "\n",
    "    Q = [mserror(X, w, Y)]  \n",
    "    # ход градиентного спуска\n",
    "    while weight_dist > min_weight_dist and iter_num < max_iter:\n",
    "\n",
    "        # генерируем случайный индекс объекта выборки\n",
    "        train_ind = np.random.randint(data.shape[0])\n",
    "\n",
    "        new_w = w - 2 * eta * np.dot(data[train_ind].T, (np.dot(data[train_ind], w) - target[train_ind])) / target.shape[0] + lambda_two * w**2\n",
    "\n",
    "        weight_dist = np.linalg.norm(new_w - w, ord=2)\n",
    "\n",
    "        w_list.append(new_w.copy())\n",
    "        errors.append(mserror(data, new_w, target))\n",
    "        Q.append(Q[-1]*(1-lamb)+lamb*(np.dot(data[train_ind], w) - target[train_ind])**2)\n",
    "        iter_num += 1\n",
    "        w = new_w\n",
    "\n",
    "    w_list = np.array(w_list)\n",
    "\n",
    "    print(f'В случае использования стохастического градиентного спуска функционал ошибки составляет {round(errors[-1], 4)}')\n",
    "    \n",
    "    return w_list, errors"
   ]
  },
  {
   "cell_type": "code",
   "execution_count": 131,
   "metadata": {},
   "outputs": [
    {
     "name": "stdout",
     "output_type": "stream",
     "text": [
      "В случае использования стохастического градиентного спуска функционал ошибки составляет 79.9713\n"
     ]
    }
   ],
   "source": [
    "# возьмем нулевые начальные веса\n",
    "n_features = 2\n",
    "w = np.zeros(n_features)\n",
    "w_stochastic_l2 = stochastic_L2(data, target, w, eta = 0.01, max_iter = 1e5, min_weight_dist = 1e-8)"
   ]
  },
  {
   "cell_type": "code",
   "execution_count": 132,
   "metadata": {},
   "outputs": [
    {
     "data": {
      "text/plain": [
       "<matplotlib.legend.Legend at 0x7fc050f4efa0>"
      ]
     },
     "execution_count": 132,
     "metadata": {},
     "output_type": "execute_result"
    },
    {
     "data": {
      "image/png": "[encoded data removed]",
      "text/plain": [
       "<Figure size 432x288 with 1 Axes>"
      ]
     },
     "metadata": {
      "needs_background": "light"
     },
     "output_type": "display_data"
    }
   ],
   "source": [
    "# Визуализируем изменение функционала ошибки\n",
    "plt.plot(range(len(w_gradient[1])), w_gradient[1], label=\"Градиентный спуск\")\n",
    "plt.plot(range(len(w_stochastic[1])), w_stochastic[1], label=\"Стохастический градиентный спуск\")\n",
    "plt.plot(range(len(w_stochastic_l2[1])), w_stochastic_l2[1], label=\"Стохастический градиентный спуск c L2\")\n",
    "\n",
    "plt.title('MSE')\n",
    "plt.xlabel('Iteration number')\n",
    "plt.ylabel('MSE')\n",
    "plt.legend()"
   ]
  },
  {
   "cell_type": "markdown",
   "metadata": {},
   "source": [
    "Если добавить регуляризацию L2, то скорость несколько уменьшилась, зато выросла точность модели"
   ]
  },
  {
   "cell_type": "code",
   "execution_count": null,
   "metadata": {},
   "outputs": [],
   "source": []
  }
 ],
 "metadata": {
  "kernelspec": {
   "display_name": "Python 3",
   "language": "python",
   "name": "python3"
  },
  "language_info": {
   "codemirror_mode": {
    "name": "ipython",
    "version": 3
   },
   "file_extension": ".py",
   "mimetype": "text/x-python",
   "name": "python",
   "nbconvert_exporter": "python",
   "pygments_lexer": "ipython3",
   "version": "3.8.5"
  }
 },
 "nbformat": 4,
 "nbformat_minor": 4
}
